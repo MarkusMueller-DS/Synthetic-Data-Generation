{
 "cells": [
  {
   "cell_type": "markdown",
   "metadata": {},
   "source": [
    "# Yeast\n",
    "\n",
    "Link: https://archive.ics.uci.edu/dataset/110/yeast \n",
    "\n",
    "Is normally a multicalss dataset, but can be used to test different imbalanced ratios\n",
    "in SMOTified-GAN CYT vs. ME2"
   ]
  },
  {
   "cell_type": "code",
   "execution_count": 2,
   "metadata": {},
   "outputs": [],
   "source": [
    "import pandas as pd\n",
    "from ucimlrepo import fetch_ucirepo\n",
    "import numpy as np\n",
    "from sklearn.model_selection import train_test_split\n",
    "import json\n",
    "import matplotlib.pyplot as plt\n",
    "\n",
    "\n",
    "pd.set_option('display.max_columns', None)"
   ]
  },
  {
   "cell_type": "code",
   "execution_count": 3,
   "metadata": {},
   "outputs": [
    {
     "name": "stderr",
     "output_type": "stream",
     "text": [
      "/var/folders/gv/d21k9b7d7v9d382g4l3v4rqm0000gn/T/ipykernel_43422/1806580928.py:14: FutureWarning: The 'delim_whitespace' keyword in pd.read_csv is deprecated and will be removed in a future version. Use ``sep='\\s+'`` instead\n",
      "  df = pd.read_csv(data_path, delim_whitespace=True, header=header)\n"
     ]
    }
   ],
   "source": [
    "info_path = \"../data/info/yeast.json\"\n",
    "data_path = \"../data/raw/yeast/yeast.data\"\n",
    "\n",
    "with open(info_path, \"r\") as f:\n",
    "    info = json.load(f)\n",
    "\n",
    "# load relevatn information from info json\n",
    "majority_class = info[\"majority_class\"]\n",
    "minority_class = info[\"minority_class\"]\n",
    "target = info[\"target_col\"]\n",
    "column_names = info[\"column_names\"]\n",
    "header = info[\"header\"]\n",
    "\n",
    "df = pd.read_csv(data_path, delim_whitespace=True, header=header)\n",
    "\n",
    "# add column names\n",
    "df.columns = column_names \n",
    "\n",
    "# remove unrelevant column\n",
    "df.drop(columns=[\"Sequence.Name\"], inplace=True)\n",
    "\n",
    "# filter for minortiy and majoirty class \n",
    "df = df[(df[target] == majority_class) | (df[target] == minority_class)]\n",
    "\n",
    "df_src = df.copy()\n",
    "\n",
    "# create train and test splits\n",
    "X = df.iloc[:, :-1]\n",
    "y = df[target]\n",
    "X_train, X_test, y_train, y_test = train_test_split(X, y, stratify=y, random_state=42, test_size=0.2)\n",
    "\n",
    "# combine X and y for train and test\n",
    "X_train[target] = y_train\n",
    "X_test[target] = y_test\n",
    "\n",
    "# create different splite of training data\n",
    "train_min = X_train[X_train[target] == minority_class]\n",
    "train_maj_sampled = X_train[X_train[target] == majority_class].sample(n=train_min.shape[0], random_state=42)\n",
    "train_balanced = pd.concat([train_min, train_maj_sampled])\n",
    "# shuffle train_balanced \n",
    "train_balanced = train_balanced.sample(frac=1, random_state=42).reset_index(drop=True)"
   ]
  },
  {
   "cell_type": "code",
   "execution_count": 8,
   "metadata": {},
   "outputs": [
    {
     "data": {
      "text/plain": [
       "localization.site\n",
       "CYT    370\n",
       "ME2     41\n",
       "Name: count, dtype: int64"
      ]
     },
     "execution_count": 8,
     "metadata": {},
     "output_type": "execute_result"
    }
   ],
   "source": [
    "X_train[target].value_counts()"
   ]
  },
  {
   "cell_type": "code",
   "execution_count": 9,
   "metadata": {},
   "outputs": [
    {
     "name": "stdout",
     "output_type": "stream",
     "text": [
      "to generate: 329\n"
     ]
    }
   ],
   "source": [
    "num_min = 41\n",
    "num_maj = 370\n",
    "print(\"to generate:\", num_maj - num_min)"
   ]
  },
  {
   "cell_type": "code",
   "execution_count": null,
   "metadata": {},
   "outputs": [],
   "source": []
  }
 ],
 "metadata": {
  "kernelspec": {
   "display_name": "sdg-eda-env",
   "language": "python",
   "name": "python3"
  },
  "language_info": {
   "codemirror_mode": {
    "name": "ipython",
    "version": 3
   },
   "file_extension": ".py",
   "mimetype": "text/x-python",
   "name": "python",
   "nbconvert_exporter": "python",
   "pygments_lexer": "ipython3",
   "version": "3.10.15"
  }
 },
 "nbformat": 4,
 "nbformat_minor": 2
}
